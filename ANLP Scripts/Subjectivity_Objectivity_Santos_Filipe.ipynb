{
 "cells": [
  {
   "cell_type": "markdown",
   "id": "0e3f9bea",
   "metadata": {},
   "source": [
    "For our in-class exercise today, you worked with a team to formalize the distiction between subjectivity vs. objectivity.  Now you will annotate a new set of documents with your formalization and create a minimal set of guidelines reflecting your interpretation of that concept."
   ]
  },
  {
   "cell_type": "markdown",
   "id": "6b7f3c4b",
   "metadata": {},
   "source": [
    "**Q1**. In ~100-200 words, describe your definition of subjective and objective texts. (This can be the same description as your in-class group activity.)"
   ]
  },
  {
   "cell_type": "markdown",
   "id": "cba21f69",
   "metadata": {},
   "source": [
    "**ANSWER:** \n",
    "If a statement can be fact-checked, whether true or false, it should lean towards the objective side of the spectrum. Specific verbs and nouns also can help understand a statement's subjectiveness. For example, in sentences that contain words such as \"in my opinion,\" \"beliefs,\" \"faith,\" or even sentiments, such as \"love,\" \"hate,\" \"hope,\" etc., with an intrinsic semantic subjectiveness, I would label them as \"subjective\" statements. \n",
    "For me, the biggest challenge relies on the phrases that contain multiple statements within them and, consequently, might display both subjective and objective characteristics. In that case, I would analyze the dominant aspect of the record to label it.  "
   ]
  },
  {
   "cell_type": "markdown",
   "id": "32d145c2",
   "metadata": {},
   "source": [
    "**Q2**. Annotate the data in `data/subjective_objective.tsv` using this definition.  Your annotation should consist entirely of putting either \"subjective\" or \"objective\" in the first column of that file.  Don't discuss these annotations with anyone else (including your class group) -- they should be *independent* at this point.  You'll upload this file to bCourses along with this completed notebook."
   ]
  },
  {
   "cell_type": "markdown",
   "id": "0129968e",
   "metadata": {},
   "source": [
    "**Q3**. From those annotations, pull out 15 examples that characterize the ends of this concept and the boundary between them. These 15 examples should be:\n",
    "\n",
    "* 5 clearly objective documents\n",
    "* 5 clearly subjective documents\n",
    "* 5 documents on the boundary between the two classes; for each of these 5 examples, explain why they might be confusing, how they should be annotated in your system, and any general principles we should take away from the example that we should use to guide our annotation of similar cases of ambiguity.\n",
    "\n",
    "Go ahead and put these examples in this notebook."
   ]
  },
  {
   "cell_type": "markdown",
   "id": "2715ae55",
   "metadata": {},
   "source": [
    "**Five Clearly Objective Examples**\n",
    "\n",
    "i) \"It's raining outside.\"\n",
    "ii) \"2 + 2 = 4.\"\n",
    "iii) \"My young relatives, who were 4 and 5 years old at the time, had just enrolled in a boarding preschool that the Chinese government had established in my hometown, Kanlho, a seminomadic region in the northeast corner of the Tibetan plateau.\"\n",
    "iv) \"We will put a person on Mars in the next 50 years.\"\n",
    "v) \"John Krasinski is married to Emily Blunt.\"\n",
    "\n",
    "**Five Clearly Subjective Examples**\n",
    "\n",
    "i) \"NLP is the best subfield of AI.\"\n",
    "ii) \"Facebook should be regulated.\"\n",
    "iii) \"This is the saddest story I have ever heard.\"\n",
    "iv) \"I'm think it's raining outside.\"\n",
    "v) \"John Krasinski loves Emily Blunt.\"\n",
    "\n",
    "**Five Boundary Examples**\n",
    "\n",
    "*i) \"By my count, there are 10 movies by actor-turned-directors at this year's Toronto International Film Festival.\"*\n",
    "\n",
    "**Classification:** Objective\n",
    "\n",
    "**Explanation:** The example contains characteristics from both an objective and a subjective statement. When it provides easily checkable numbers of movies by actor-turned-directors in the Toronto Film Festival it leans towards an objective statement; however, initiating the phrase with \"by my count\" makes it a bit more nuanced. In this case, although the number of movies can be easily checked, the \"count\" done by the subject can't be verified. The dominant aspect of this example is objective, though.\n",
    "\n",
    "*ii) \"The unusually hot job market of the past few years emboldened more than 40 million people to quit their jobs in 2021 and some 50 million in 2022.\"*\n",
    "\n",
    "**Classification:** Objective\n",
    "\n",
    "**Explanation:** A Very similar explanation to the example above, this phrase contains characteristics from both an objective and a subjective statement. The subjectiveness aspect is defined by the definition of an \"unusually hot job market.\" The interpretation of what defines a hot job market and what makes it unusual or not can vary significantly from person to person and, therefore, can't be straightly verified. Nevertheless, the dominant part of the phrase is too objective, hence its classification.\n",
    "\n",
    "*iii) \"For years, Ireland's low corporate tax rate has lured multinational organizations to set up overseas subsidiaries here.\"*\n",
    "\n",
    "**Classification:** Objective\n",
    "\n",
    "**Explanation:** Another similar example but a bit more nuanced. Although the phrase contains straight facts, such as Ireland's low corporate tax rate, it can reduce objectiveness when using a subjective verb, such as \"lure\". Again, the dominance of the record still makes it annotated as Objective.\n",
    "\n",
    "*iv) \"As a historian, a high school teacher and a Yale alumna, I was dismayed to read that Yale seems to have bowed to donor pressure on the curriculum of its Brady-Johnson Program in Grand Strategy.\"*\n",
    "\n",
    "**Classification:** Subjective\n",
    "\n",
    "**Explanation:** In this phrase, although there are multiple facts that could be easily checked (the subject being a historian; a high school teacher, and a Yale alumna), the main message expressed by the phrase contains a lot of subjectiveness. \"Yale bowing to donor pressure\" is not easily verified and leaves much room for interpretation. It is interesting to understand that this analysis is not merely based on the number of tokens that lean towards subjectiveness or objectiveness. Still, it is mostly based on the semantic understanding of the phrase and what message it is trying to convey.\n",
    "\n",
    "    \n",
    "*v) \"A stronger core makes everyday life easier, too, resulting in fewer injuries, better posture and balance and less back pain.\"*\n",
    "\n",
    "**Classification:** Subjective\n",
    "\n",
    "**Explanation:** The challenge with this example is a bit different. Generalizing too much on its affirmation makes it almost impossible to fact-check what is being proposed. Assumptions that are too broad also tend to lose their objectiveness because they open too much room for individual interpretations and particular cases. Again, it is not even related to either being True or False, but it goes back to the feasibility of proving that statement."
   ]
  },
  {
   "cell_type": "code",
   "execution_count": null,
   "id": "6b173789",
   "metadata": {},
   "outputs": [],
   "source": []
  }
 ],
 "metadata": {
  "kernelspec": {
   "display_name": "Python 3 (ipykernel)",
   "language": "python",
   "name": "python3"
  },
  "language_info": {
   "codemirror_mode": {
    "name": "ipython",
    "version": 3
   },
   "file_extension": ".py",
   "mimetype": "text/x-python",
   "name": "python",
   "nbconvert_exporter": "python",
   "pygments_lexer": "ipython3",
   "version": "3.11.4"
  }
 },
 "nbformat": 4,
 "nbformat_minor": 5
}
